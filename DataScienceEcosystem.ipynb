{
 "cells": [
  {
   "cell_type": "markdown",
   "id": "0023f4fb-91e7-410e-b1eb-b884464672da",
   "metadata": {},
   "source": [
    "# Data Science Tools and Ecosystem"
   ]
  },
  {
   "cell_type": "markdown",
   "id": "f1dee28f-1f96-495e-a4f0-3ef5a193f20d",
   "metadata": {},
   "source": [
    "In this notebook, Data Science Tools and Ecosystem are summarized."
   ]
  },
  {
   "cell_type": "markdown",
   "id": "b44fe383-0da4-4a65-bca9-07a835f49a94",
   "metadata": {},
   "source": [
    "Some of the popular languages that Data Scientists use are:\n",
    "1. Python\n",
    "2. R\n",
    "3. SQL\n",
    "4. Julia\n",
    "5. Scala"
   ]
  },
  {
   "cell_type": "markdown",
   "id": "42946d4f-28d1-41f2-bece-bba214844636",
   "metadata": {},
   "source": [
    "Some of the commonly used libraries used by Data Scientists include:\n",
    "1. NumPy\n",
    "2. Pandas\n",
    "3. Matplotlib\n",
    "4. Scikit-learn\n",
    "5. TensorFlow"
   ]
  },
  {
   "cell_type": "markdown",
   "id": "95a7aa2e-cd90-4ce3-b23e-1a6fd5afeff7",
   "metadata": {},
   "source": [
    "## Data Science Tools\n",
    "\n",
    "| Category | Tool |\n",
    "|----------|------|\n",
    "| Development Environment | Jupyter Notebook |\n",
    "| Integrated Development Environment (IDE) | RStudio |\n",
    "| Version Control | GitHub |\n",
    "| Big Data Processing | Apache Spark |\n",
    "| Machine Learning Platform | TensorFlow |\n",
    "| Package Management | Anaconda |\n",
    "| Containerization | Docker |\n",
    "| Cloud Computing | Google Colab |\n",
    "| Data Visualization | Tableau |\n",
    "| Database Management | SQL |"
   ]
  },
  {
   "cell_type": "markdown",
   "id": "b7be3ec3-da95-4998-96e3-004a191f191e",
   "metadata": {},
   "source": [
    "### Below are a few examples of evaluating arithmetic expressions in Python."
   ]
  },
  {
   "cell_type": "code",
   "execution_count": 22,
   "id": "60ad4b36-91c9-404b-afa6-81bb4fdbb48d",
   "metadata": {},
   "outputs": [
    {
     "name": "stdout",
     "output_type": "stream",
     "text": [
      "Multiplication result: 15\n",
      "Addition result: 8\n"
     ]
    }
   ],
   "source": [
    "# Multiply and add numbers\n",
    "x = 5\n",
    "y = 3\n",
    "result_multiply = x * y\n",
    "result_add = x + y\n",
    "print(f\"Multiplication result: {result_multiply}\")\n",
    "print(f\"Addition result: {result_add}\")"
   ]
  },
  {
   "cell_type": "code",
   "execution_count": 20,
   "id": "d7302cb8-a675-450d-a192-3111e83a14e7",
   "metadata": {},
   "outputs": [
    {
     "name": "stdout",
     "output_type": "stream",
     "text": [
      "150 minutes is equal to 2.5 hours\n"
     ]
    }
   ],
   "source": [
    "# Convert minutes to hours\n",
    "minutes = 150\n",
    "hours = minutes / 60\n",
    "print(f\"{minutes} minutes is equal to {hours} hours\")\n"
   ]
  },
  {
   "cell_type": "markdown",
   "id": "595e5ee4-74ff-4755-84b7-93e444c63c5b",
   "metadata": {},
   "source": [
    "**Objectives:**\n",
    "- List popular languages for Data Science\n",
    "- Explore commonly used Data Science libraries\n",
    "- Learn basic arithmetic operations in Python\n",
    "- Understand key data science development tools\n",
    "- Practice creating Markdown and code cells in Jupyter Notebook"
   ]
  },
  {
   "cell_type": "markdown",
   "id": "70f83a8e-fb1f-4565-a67c-770a458ee10a",
   "metadata": {},
   "source": [
    "## Author\n",
    " Kamal Raj Vendi"
   ]
  },
  {
   "cell_type": "code",
   "execution_count": null,
   "id": "2d65b621-b9c8-4f92-8ca1-4238c6a19614",
   "metadata": {},
   "outputs": [],
   "source": []
  }
 ],
 "metadata": {
  "kernelspec": {
   "display_name": "Python 3 (ipykernel)",
   "language": "python",
   "name": "python3"
  },
  "language_info": {
   "codemirror_mode": {
    "name": "ipython",
    "version": 3
   },
   "file_extension": ".py",
   "mimetype": "text/x-python",
   "name": "python",
   "nbconvert_exporter": "python",
   "pygments_lexer": "ipython3",
   "version": "3.12.4"
  }
 },
 "nbformat": 4,
 "nbformat_minor": 5
}
